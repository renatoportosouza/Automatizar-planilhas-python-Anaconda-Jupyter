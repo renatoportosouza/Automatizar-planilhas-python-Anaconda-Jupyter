{
 "cells": [
  {
   "cell_type": "markdown",
   "id": "4f7136f4",
   "metadata": {},
   "source": [
    "# Automação de Processos"
   ]
  },
  {
   "cell_type": "markdown",
   "id": "b233a00d",
   "metadata": {},
   "source": [
    "## Problema a ser resolvido\n",
    "\n",
    "- Buscar de forma automática, informações de ações de bolsa de valores\n",
    "- Criar as análises solicitadas pelo Gestor\n",
    "- Enviar automáticamente, um email com os resultados das análises"
   ]
  },
  {
   "cell_type": "markdown",
   "id": "da3dadb5",
   "metadata": {},
   "source": [
    "## Bibliotecas"
   ]
  },
  {
   "cell_type": "code",
   "execution_count": 3,
   "id": "547d266a",
   "metadata": {},
   "outputs": [
    {
     "name": "stdout",
     "output_type": "stream",
     "text": [
      "Defaulting to user installation because normal site-packages is not writeable\n",
      "Requirement already satisfied: yfinance in c:\\users\\renato pôrto\\appdata\\roaming\\python\\python311\\site-packages (0.2.31)\n",
      "Requirement already satisfied: pandas>=1.3.0 in c:\\programdata\\anaconda3\\lib\\site-packages (from yfinance) (2.0.3)\n",
      "Requirement already satisfied: numpy>=1.16.5 in c:\\programdata\\anaconda3\\lib\\site-packages (from yfinance) (1.24.3)\n",
      "Requirement already satisfied: requests>=2.31 in c:\\programdata\\anaconda3\\lib\\site-packages (from yfinance) (2.31.0)\n",
      "Requirement already satisfied: multitasking>=0.0.7 in c:\\users\\renato pôrto\\appdata\\roaming\\python\\python311\\site-packages (from yfinance) (0.0.11)\n",
      "Requirement already satisfied: lxml>=4.9.1 in c:\\programdata\\anaconda3\\lib\\site-packages (from yfinance) (4.9.3)\n",
      "Requirement already satisfied: appdirs>=1.4.4 in c:\\programdata\\anaconda3\\lib\\site-packages (from yfinance) (1.4.4)\n",
      "Requirement already satisfied: pytz>=2022.5 in c:\\programdata\\anaconda3\\lib\\site-packages (from yfinance) (2023.3.post1)\n",
      "Requirement already satisfied: frozendict>=2.3.4 in c:\\users\\renato pôrto\\appdata\\roaming\\python\\python311\\site-packages (from yfinance) (2.3.8)\n",
      "Requirement already satisfied: peewee>=3.16.2 in c:\\users\\renato pôrto\\appdata\\roaming\\python\\python311\\site-packages (from yfinance) (3.17.0)\n",
      "Requirement already satisfied: beautifulsoup4>=4.11.1 in c:\\programdata\\anaconda3\\lib\\site-packages (from yfinance) (4.12.2)\n",
      "Requirement already satisfied: html5lib>=1.1 in c:\\users\\renato pôrto\\appdata\\roaming\\python\\python311\\site-packages (from yfinance) (1.1)\n",
      "Requirement already satisfied: soupsieve>1.2 in c:\\programdata\\anaconda3\\lib\\site-packages (from beautifulsoup4>=4.11.1->yfinance) (2.4)\n",
      "Requirement already satisfied: six>=1.9 in c:\\programdata\\anaconda3\\lib\\site-packages (from html5lib>=1.1->yfinance) (1.16.0)\n",
      "Requirement already satisfied: webencodings in c:\\programdata\\anaconda3\\lib\\site-packages (from html5lib>=1.1->yfinance) (0.5.1)\n",
      "Requirement already satisfied: python-dateutil>=2.8.2 in c:\\programdata\\anaconda3\\lib\\site-packages (from pandas>=1.3.0->yfinance) (2.8.2)\n",
      "Requirement already satisfied: tzdata>=2022.1 in c:\\programdata\\anaconda3\\lib\\site-packages (from pandas>=1.3.0->yfinance) (2023.3)\n",
      "Requirement already satisfied: charset-normalizer<4,>=2 in c:\\programdata\\anaconda3\\lib\\site-packages (from requests>=2.31->yfinance) (2.0.4)\n",
      "Requirement already satisfied: idna<4,>=2.5 in c:\\programdata\\anaconda3\\lib\\site-packages (from requests>=2.31->yfinance) (3.4)\n",
      "Requirement already satisfied: urllib3<3,>=1.21.1 in c:\\programdata\\anaconda3\\lib\\site-packages (from requests>=2.31->yfinance) (1.26.16)\n",
      "Requirement already satisfied: certifi>=2017.4.17 in c:\\programdata\\anaconda3\\lib\\site-packages (from requests>=2.31->yfinance) (2023.7.22)\n"
     ]
    }
   ],
   "source": [
    "!pip install yfinance"
   ]
  },
  {
   "cell_type": "code",
   "execution_count": 4,
   "id": "e4b79205",
   "metadata": {},
   "outputs": [
    {
     "name": "stdout",
     "output_type": "stream",
     "text": [
      "Defaulting to user installation because normal site-packages is not writeable\n",
      "Collecting pyautogui\n",
      "  Downloading PyAutoGUI-0.9.54.tar.gz (61 kB)\n",
      "     ---------------------------------------- 0.0/61.2 kB ? eta -:--:--\n",
      "     ------------ ------------------------- 20.5/61.2 kB 217.9 kB/s eta 0:00:01\n",
      "     ------------------- ------------------ 30.7/61.2 kB 217.9 kB/s eta 0:00:01\n",
      "     ------------------------- ------------ 41.0/61.2 kB 245.8 kB/s eta 0:00:01\n",
      "     ------------------------------- ------ 51.2/61.2 kB 260.9 kB/s eta 0:00:01\n",
      "     -------------------------------------- 61.2/61.2 kB 217.0 kB/s eta 0:00:00\n",
      "  Installing build dependencies: started\n",
      "  Installing build dependencies: finished with status 'done'\n",
      "  Getting requirements to build wheel: started\n",
      "  Getting requirements to build wheel: finished with status 'done'\n",
      "  Preparing metadata (pyproject.toml): started\n",
      "  Preparing metadata (pyproject.toml): finished with status 'done'\n",
      "Collecting pymsgbox (from pyautogui)\n",
      "  Downloading PyMsgBox-1.0.9.tar.gz (18 kB)\n",
      "  Installing build dependencies: started\n",
      "  Installing build dependencies: finished with status 'done'\n",
      "  Getting requirements to build wheel: started\n",
      "  Getting requirements to build wheel: finished with status 'done'\n",
      "  Preparing metadata (pyproject.toml): started\n",
      "  Preparing metadata (pyproject.toml): finished with status 'done'\n",
      "Collecting pytweening>=1.0.4 (from pyautogui)\n",
      "  Downloading pytweening-1.0.7.tar.gz (168 kB)\n",
      "     ---------------------------------------- 0.0/168.2 kB ? eta -:--:--\n",
      "     ---------------- ---------------------- 71.7/168.2 kB 2.0 MB/s eta 0:00:01\n",
      "     -------------------------------------  163.8/168.2 kB 2.5 MB/s eta 0:00:01\n",
      "     -------------------------------------- 168.2/168.2 kB 1.3 MB/s eta 0:00:00\n",
      "  Preparing metadata (setup.py): started\n",
      "  Preparing metadata (setup.py): finished with status 'done'\n",
      "Collecting pyscreeze>=0.1.21 (from pyautogui)\n",
      "  Downloading PyScreeze-0.1.29.tar.gz (25 kB)\n",
      "  Installing build dependencies: started\n",
      "  Installing build dependencies: finished with status 'done'\n",
      "  Getting requirements to build wheel: started\n",
      "  Getting requirements to build wheel: finished with status 'done'\n",
      "  Preparing metadata (pyproject.toml): started\n",
      "  Preparing metadata (pyproject.toml): finished with status 'done'\n",
      "Collecting pygetwindow>=0.0.5 (from pyautogui)\n",
      "  Downloading PyGetWindow-0.0.9.tar.gz (9.7 kB)\n",
      "  Preparing metadata (setup.py): started\n",
      "  Preparing metadata (setup.py): finished with status 'done'\n",
      "Collecting mouseinfo (from pyautogui)\n",
      "  Downloading MouseInfo-0.1.3.tar.gz (10 kB)\n",
      "  Preparing metadata (setup.py): started\n",
      "  Preparing metadata (setup.py): finished with status 'done'\n",
      "Collecting pyrect (from pygetwindow>=0.0.5->pyautogui)\n",
      "  Downloading PyRect-0.2.0.tar.gz (17 kB)\n",
      "  Preparing metadata (setup.py): started\n",
      "  Preparing metadata (setup.py): finished with status 'done'\n",
      "Collecting pyscreenshot (from pyscreeze>=0.1.21->pyautogui)\n",
      "  Downloading pyscreenshot-3.1-py3-none-any.whl (28 kB)\n",
      "Requirement already satisfied: Pillow>=9.3.0 in c:\\programdata\\anaconda3\\lib\\site-packages (from pyscreeze>=0.1.21->pyautogui) (9.4.0)\n",
      "Collecting pyperclip (from mouseinfo->pyautogui)\n",
      "  Downloading pyperclip-1.8.2.tar.gz (20 kB)\n",
      "  Preparing metadata (setup.py): started\n",
      "  Preparing metadata (setup.py): finished with status 'done'\n",
      "Collecting EasyProcess (from pyscreenshot->pyscreeze>=0.1.21->pyautogui)\n",
      "  Downloading EasyProcess-1.1-py3-none-any.whl (8.7 kB)\n",
      "Collecting entrypoint2 (from pyscreenshot->pyscreeze>=0.1.21->pyautogui)\n",
      "  Downloading entrypoint2-1.1-py2.py3-none-any.whl (9.9 kB)\n",
      "Collecting mss (from pyscreenshot->pyscreeze>=0.1.21->pyautogui)\n",
      "  Downloading mss-9.0.1-py3-none-any.whl (22 kB)\n",
      "Building wheels for collected packages: pyautogui, pygetwindow, pyscreeze, pytweening, mouseinfo, pymsgbox, pyperclip, pyrect\n",
      "  Building wheel for pyautogui (pyproject.toml): started\n",
      "  Building wheel for pyautogui (pyproject.toml): finished with status 'done'\n",
      "  Created wheel for pyautogui: filename=PyAutoGUI-0.9.54-py3-none-any.whl size=37597 sha256=a5c13ed7c4391659ab64f560cc377e25aa9348ceb37d79c9b223a911aa8782e2\n",
      "  Stored in directory: c:\\users\\renato pôrto\\appdata\\local\\pip\\cache\\wheels\\95\\dc\\b1\\fe122b791e0db8bf439a0e6e1d2628e48f10bf430cae13521b\n",
      "  Building wheel for pygetwindow (setup.py): started\n",
      "  Building wheel for pygetwindow (setup.py): finished with status 'done'\n",
      "  Created wheel for pygetwindow: filename=PyGetWindow-0.0.9-py3-none-any.whl size=11079 sha256=4f9fdb2c1f6194a128a0c471b2e6b95f0eb1fc9e36b41943152c0c353d1894ed\n",
      "  Stored in directory: c:\\users\\renato pôrto\\appdata\\local\\pip\\cache\\wheels\\07\\75\\0b\\7ca0b598eb4c21d43ba4bcc78a0538dfcf803a5997da33bc19\n",
      "  Building wheel for pyscreeze (pyproject.toml): started\n",
      "  Building wheel for pyscreeze (pyproject.toml): finished with status 'done'\n",
      "  Created wheel for pyscreeze: filename=PyScreeze-0.1.29-py3-none-any.whl size=13484 sha256=bb1ca17e3e9d7dc93ec224551c5a098809c954b67b163d4fb5a4953d1a66a008\n",
      "  Stored in directory: c:\\users\\renato pôrto\\appdata\\local\\pip\\cache\\wheels\\d3\\bd\\06\\4b4c57f65e89d1ab7a63a924c12aca4784cd95e74940371b5e\n",
      "  Building wheel for pytweening (setup.py): started\n",
      "  Building wheel for pytweening (setup.py): finished with status 'done'\n",
      "  Created wheel for pytweening: filename=pytweening-1.0.7-py3-none-any.whl size=6214 sha256=085d68867935c95a289cd802381c89737042c25c25d52f098fd609abec3e97d3\n",
      "  Stored in directory: c:\\users\\renato pôrto\\appdata\\local\\pip\\cache\\wheels\\b2\\9b\\02\\059beba389e7e31a635bd9e8d9b7299f4ec11caca1f237f56d\n",
      "  Building wheel for mouseinfo (setup.py): started\n",
      "  Building wheel for mouseinfo (setup.py): finished with status 'done'\n",
      "  Created wheel for mouseinfo: filename=MouseInfo-0.1.3-py3-none-any.whl size=10906 sha256=6e16c4af8584a5f21e8ddbcc4fe23aac24246a5080a3dc451cb15dd76035eb53\n",
      "  Stored in directory: c:\\users\\renato pôrto\\appdata\\local\\pip\\cache\\wheels\\20\\0b\\7f\\939ac9ff785b09951c706150537572c00123412f260a6024f3\n",
      "  Building wheel for pymsgbox (pyproject.toml): started\n",
      "  Building wheel for pymsgbox (pyproject.toml): finished with status 'done'\n",
      "  Created wheel for pymsgbox: filename=PyMsgBox-1.0.9-py3-none-any.whl size=7417 sha256=6f95042a7c3e3f48fa25a1e4ba448c30a70a8f46eb3e80c3ab88a24da0ef2b61\n",
      "  Stored in directory: c:\\users\\renato pôrto\\appdata\\local\\pip\\cache\\wheels\\85\\92\\63\\e126ee5f33d8f2ed04f96e43ef5df7270a2f331848752e8662\n",
      "  Building wheel for pyperclip (setup.py): started\n",
      "  Building wheel for pyperclip (setup.py): finished with status 'done'\n",
      "  Created wheel for pyperclip: filename=pyperclip-1.8.2-py3-none-any.whl size=11137 sha256=fd3516fd0631acf77783175dc0da107067d38ad2badee8f7cbd50097ceb349bd\n",
      "  Stored in directory: c:\\users\\renato pôrto\\appdata\\local\\pip\\cache\\wheels\\70\\bd\\ba\\8ae5c080c895c9360fe6e153acda2dee82527374467eae061b\n",
      "  Building wheel for pyrect (setup.py): started\n",
      "  Building wheel for pyrect (setup.py): finished with status 'done'\n",
      "  Created wheel for pyrect: filename=PyRect-0.2.0-py2.py3-none-any.whl size=11205 sha256=0da0a1a525f2ada1c95ac363fdcbbb40e693addcbfae2a16752ab325b2b3b54b\n",
      "  Stored in directory: c:\\users\\renato pôrto\\appdata\\local\\pip\\cache\\wheels\\c4\\e9\\fc\\b7a666dd4f9a3168fb44d643079b41d36ddab52f470707e820\n",
      "Successfully built pyautogui pygetwindow pyscreeze pytweening mouseinfo pymsgbox pyperclip pyrect\n",
      "Installing collected packages: pytweening, pyrect, pyperclip, pymsgbox, entrypoint2, EasyProcess, pygetwindow, mss, mouseinfo, pyscreenshot, pyscreeze, pyautogui\n",
      "Successfully installed EasyProcess-1.1 entrypoint2-1.1 mouseinfo-0.1.3 mss-9.0.1 pyautogui-0.9.54 pygetwindow-0.0.9 pymsgbox-1.0.9 pyperclip-1.8.2 pyrect-0.2.0 pyscreenshot-3.1 pyscreeze-0.1.29 pytweening-1.0.7\n"
     ]
    },
    {
     "name": "stderr",
     "output_type": "stream",
     "text": [
      "  WARNING: The script mss.exe is installed in 'C:\\Users\\Renato Pôrto\\AppData\\Roaming\\Python\\Python311\\Scripts' which is not on PATH.\n",
      "  Consider adding this directory to PATH or, if you prefer to suppress this warning, use --no-warn-script-location.\n"
     ]
    }
   ],
   "source": [
    "!pip install pyautogui"
   ]
  },
  {
   "cell_type": "code",
   "execution_count": 5,
   "id": "192b5800",
   "metadata": {
    "scrolled": true
   },
   "outputs": [
    {
     "name": "stdout",
     "output_type": "stream",
     "text": [
      "Defaulting to user installation because normal site-packages is not writeable\n",
      "Requirement already satisfied: pyperclip in c:\\users\\renato pôrto\\appdata\\roaming\\python\\python311\\site-packages (1.8.2)\n"
     ]
    }
   ],
   "source": [
    "!pip install pyperclip"
   ]
  },
  {
   "cell_type": "markdown",
   "id": "e5dd6665",
   "metadata": {},
   "source": [
    "## Buscar informações de ações"
   ]
  },
  {
   "cell_type": "code",
   "execution_count": 4,
   "id": "a6f41e33",
   "metadata": {},
   "outputs": [],
   "source": [
    "import yfinance"
   ]
  },
  {
   "cell_type": "code",
   "execution_count": 15,
   "id": "2f45d162",
   "metadata": {},
   "outputs": [
    {
     "name": "stdout",
     "output_type": "stream",
     "text": [
      "digite o código da ação: IBM\n"
     ]
    }
   ],
   "source": [
    "codigo = input(\"digite o código da ação: \")\n",
    "dados = yfinance.Ticker(codigo).history(\"6mo\")"
   ]
  },
  {
   "cell_type": "code",
   "execution_count": 16,
   "id": "eab37475",
   "metadata": {},
   "outputs": [],
   "source": [
    "Fechamento = dados.Close"
   ]
  },
  {
   "cell_type": "code",
   "execution_count": 17,
   "id": "0c64794e",
   "metadata": {},
   "outputs": [],
   "source": [
    "Abertura = dados.Open"
   ]
  },
  {
   "cell_type": "code",
   "execution_count": 18,
   "id": "f953e5da",
   "metadata": {},
   "outputs": [
    {
     "data": {
      "text/plain": [
       "Date\n",
       "2023-04-21 00:00:00-04:00    122.627487\n",
       "2023-04-24 00:00:00-04:00    122.305634\n",
       "2023-04-25 00:00:00-04:00    122.783539\n",
       "2023-04-26 00:00:00-04:00    122.744530\n",
       "2023-04-27 00:00:00-04:00    123.836891\n",
       "                                ...    \n",
       "2023-10-16 00:00:00-04:00    139.210007\n",
       "2023-10-17 00:00:00-04:00    140.320007\n",
       "2023-10-18 00:00:00-04:00    139.970001\n",
       "2023-10-19 00:00:00-04:00    138.009995\n",
       "2023-10-20 00:00:00-04:00    137.160004\n",
       "Name: Close, Length: 127, dtype: float64"
      ]
     },
     "execution_count": 18,
     "metadata": {},
     "output_type": "execute_result"
    }
   ],
   "source": [
    "Fechamento"
   ]
  },
  {
   "cell_type": "code",
   "execution_count": 19,
   "id": "925911d9",
   "metadata": {},
   "outputs": [
    {
     "data": {
      "text/plain": [
       "Date\n",
       "2023-04-21 00:00:00-04:00    122.890821\n",
       "2023-04-24 00:00:00-04:00    122.451934\n",
       "2023-04-25 00:00:00-04:00    121.817970\n",
       "2023-04-26 00:00:00-04:00    122.705516\n",
       "2023-04-27 00:00:00-04:00    123.251698\n",
       "                                ...    \n",
       "2023-10-16 00:00:00-04:00    139.279999\n",
       "2023-10-17 00:00:00-04:00    137.119995\n",
       "2023-10-18 00:00:00-04:00    140.000000\n",
       "2023-10-19 00:00:00-04:00    138.639999\n",
       "2023-10-20 00:00:00-04:00    138.149994\n",
       "Name: Open, Length: 127, dtype: float64"
      ]
     },
     "execution_count": 19,
     "metadata": {},
     "output_type": "execute_result"
    }
   ],
   "source": [
    "Abertura"
   ]
  },
  {
   "cell_type": "code",
   "execution_count": 20,
   "id": "e3122862",
   "metadata": {},
   "outputs": [
    {
     "data": {
      "text/plain": [
       "<Axes: xlabel='Date'>"
      ]
     },
     "execution_count": 20,
     "metadata": {},
     "output_type": "execute_result"
    },
    {
     "data": {
      "image/png": "[encoded data removed]",
      "text/plain": [
       "<Figure size 640x480 with 1 Axes>"
      ]
     },
     "metadata": {},
     "output_type": "display_data"
    }
   ],
   "source": [
    "Fechamento.plot()"
   ]
  },
  {
   "cell_type": "code",
   "execution_count": 21,
   "id": "73cbe64a",
   "metadata": {},
   "outputs": [
    {
     "data": {
      "text/plain": [
       "<Axes: xlabel='Date'>"
      ]
     },
     "execution_count": 21,
     "metadata": {},
     "output_type": "execute_result"
    },
    {
     "data": {
      "image/png": "[encoded data removed]",
      "text/plain": [
       "<Figure size 640x480 with 1 Axes>"
      ]
     },
     "metadata": {},
     "output_type": "display_data"
    }
   ],
   "source": [
    "Abertura.plot()"
   ]
  },
  {
   "cell_type": "markdown",
   "id": "5926b392",
   "metadata": {},
   "source": [
    "## Gerar Análises\n",
    "\n",
    "- 6 meses\n",
    "- Cotação Máxima\n",
    "- Cotação Mínima\n",
    "- Cotação Atual"
   ]
  },
  {
   "cell_type": "code",
   "execution_count": 23,
   "id": "610d6b74",
   "metadata": {},
   "outputs": [],
   "source": [
    "maxima = round(Fechamento.max(),2)"
   ]
  },
  {
   "cell_type": "code",
   "execution_count": 24,
   "id": "0a700d13",
   "metadata": {},
   "outputs": [],
   "source": [
    "minima = round(Fechamento.min(),2)"
   ]
  },
  {
   "cell_type": "code",
   "execution_count": 25,
   "id": "343c14cf",
   "metadata": {},
   "outputs": [],
   "source": [
    "atual = round(Fechamento[-1],2)"
   ]
  },
  {
   "cell_type": "code",
   "execution_count": 26,
   "id": "7e582b7f",
   "metadata": {},
   "outputs": [
    {
     "name": "stdout",
     "output_type": "stream",
     "text": [
      "149.83\n",
      "119.52\n",
      "137.16\n"
     ]
    }
   ],
   "source": [
    "print(maxima)\n",
    "print(minima)\n",
    "print(atual)"
   ]
  },
  {
   "cell_type": "markdown",
   "id": "1c19abda",
   "metadata": {},
   "source": [
    "## Enviar e-mail automaticamente\n",
    "\n",
    "- Abrir uma nova aba (ctrl +t)\n",
    "- Digitar o endereço do Outlook\n",
    "- Clicar entrar\n",
    "- Clicar no botão escrever\n",
    "- Preencher o destinatário (clicar tab)\n",
    "- Preencher o assunto (clicar tab)\n",
    "- Preencher o corpo do e-mail\n",
    "- Clicar no botão enviar\n"
   ]
  },
  {
   "cell_type": "code",
   "execution_count": 7,
   "id": "fc1b0622",
   "metadata": {},
   "outputs": [],
   "source": [
    "import pyautogui\n",
    "import pyperclip"
   ]
  },
  {
   "cell_type": "code",
   "execution_count": 43,
   "id": "ff6781e6",
   "metadata": {},
   "outputs": [],
   "source": [
    "# configurando o Pyautogui para dar uma pausa de 3 segundos entre os passos\n",
    "pyautogui.PAUSE = 3\n",
    "\n",
    "# abrir uma nova aba (ctrl + t)\n",
    "pyautogui.hotkey(\"ctrl\", \"t\")\n",
    "\n",
    "# digitar o endereço do outlook\n",
    "pyperclip.copy(\"www.outlook.com.br\")\n",
    "pyautogui.hotkey(\"ctrl\",\"v\")\n",
    "pyautogui.hotkey(\"enter\")\n",
    "\n",
    "# clicar no botão escrever\n",
    "pyautogui.click(x=135, y=232)\n",
    "\n",
    "# Preencher o destinatário (clicar tab)\n",
    "\n",
    "pyperclip.copy(\"renatofn418@yahoo.com\")\n",
    "pyautogui.hotkey(\"ctrl\", \"v\")\n",
    "pyautogui.hotkey(\"tab\")\n",
    "\n",
    "# Preencher o assunto (clicar tab)\n",
    "pyperclip.copy(\"Análises diárias\")\n",
    "pyautogui.hotkey(\"ctrl\", \"v\")\n",
    "pyautogui.hotkey(\"tab\")\n",
    "\n",
    "# Preencher o corpo do e-mail\n",
    "\n",
    "mensagem = f\"\"\"\n",
    "Prezado Gestor,\n",
    "Prezado Gestor,\n",
    "\n",
    "Seguem as análises diárias da ação IBM referente aos últimos 6 meses:\n",
    "\n",
    "Cotação máxima: R$149.83\n",
    "Cotação mínima: R$119.52\n",
    "Cotação atual: R$137.16\n",
    "\n",
    "Qualquer dúvida estou à disposição!\n",
    "\n",
    "Seguem as análises diárias da ação {codigo} referente aos últimos 6 meses:\n",
    "\n",
    "Cotação máxima: R${maxima}\n",
    "Cotação mínima: R${minima}\n",
    "Cotação atual: R${atual}\n",
    "\n",
    "Qualquer dúvida estou à disposição!\"\"\"\n",
    "\n",
    "pyperclip.copy(mensagem)\n",
    "pyautogui.hotkey(\"ctrl\", \"v\")\n",
    "\n",
    "# Clicar no boão enviar\n",
    "\n",
    "pyautogui.click(x=504, y=283)"
   ]
  },
  {
   "cell_type": "code",
   "execution_count": 41,
   "id": "1a1d586c",
   "metadata": {},
   "outputs": [
    {
     "data": {
      "text/plain": [
       "Point(x=504, y=283)"
      ]
     },
     "execution_count": 41,
     "metadata": {},
     "output_type": "execute_result"
    }
   ],
   "source": [
    "import time\n",
    "\n",
    "time.sleep(5)\n",
    "pyautogui.position()"
   ]
  },
  {
   "cell_type": "code",
   "execution_count": null,
   "id": "59fff753",
   "metadata": {},
   "outputs": [],
   "source": [
    "\n"
   ]
  }
 ],
 "metadata": {
  "kernelspec": {
   "display_name": "Python 3 (ipykernel)",
   "language": "python",
   "name": "python3"
  },
  "language_info": {
   "codemirror_mode": {
    "name": "ipython",
    "version": 3
   },
   "file_extension": ".py",
   "mimetype": "text/x-python",
   "name": "python",
   "nbconvert_exporter": "python",
   "pygments_lexer": "ipython3",
   "version": "3.11.5"
  }
 },
 "nbformat": 4,
 "nbformat_minor": 5
}
